{
 "cells": [
  {
   "cell_type": "code",
   "execution_count": 1,
   "metadata": {},
   "outputs": [
    {
     "name": "stdout",
     "output_type": "stream",
     "text": [
      "\n",
      "To-Do List:\n",
      "\n",
      "Options:\n",
      "1. Add Task\n",
      "2. Update Task\n",
      "3. Complete Task\n",
      "4. Delete Task\n",
      "5. Exit\n"
     ]
    }
   ],
   "source": [
    "import json\n",
    "\n",
    "class ToDoList:\n",
    "    def __init__(self, filename='todo_list.json'):\n",
    "        self.filename = filename\n",
    "        self.tasks = self.load_tasks()\n",
    "\n",
    "    def load_tasks(self):\n",
    "        try:\n",
    "            with open(self.filename, 'r') as file:\n",
    "                return json.load(file)\n",
    "        except FileNotFoundError:\n",
    "            return []\n",
    "\n",
    "    def save_tasks(self):\n",
    "        with open(self.filename, 'w') as file:\n",
    "            json.dump(self.tasks, file, indent=4)\n",
    "\n",
    "    def add_task(self, task):\n",
    "        self.tasks.append({'task': task, 'completed': False})\n",
    "        self.save_tasks()\n",
    "\n",
    "    def update_task(self, index, new_task):\n",
    "        self.tasks[index]['task'] = new_task\n",
    "        self.save_tasks()\n",
    "\n",
    "    def complete_task(self, index):\n",
    "        self.tasks[index]['completed'] = True\n",
    "        self.save_tasks()\n",
    "\n",
    "    def delete_task(self, index):\n",
    "        del self.tasks[index]\n",
    "        self.save_tasks()\n",
    "\n",
    "    def display_tasks(self):\n",
    "        for i, task in enumerate(self.tasks):\n",
    "            status = \"Done\" if task['completed'] else \"Not Done\"\n",
    "            print(f\"{i + 1}. {task['task']} - {status}\")\n",
    "\n",
    "def main():\n",
    "    todo_list = ToDoList()\n",
    "\n",
    "    while True:\n",
    "        print(\"\\nTo-Do List:\")\n",
    "        todo_list.display_tasks()\n",
    "        print(\"\\nOptions:\")\n",
    "        print(\"1. Add Task\")\n",
    "        print(\"2. Update Task\")\n",
    "        print(\"3. Complete Task\")\n",
    "        print(\"4. Delete Task\")\n",
    "        print(\"5. Exit\")\n",
    "\n",
    "        choice = input(\"Choose an option: \")\n",
    "\n",
    "        if choice == '1':\n",
    "            task = input(\"Enter the task: \")\n",
    "            todo_list.add_task(task)\n",
    "        elif choice == '2':\n",
    "            index = int(input(\"Enter task number to update: \")) - 1\n",
    "            new_task = input(\"Enter new task: \")\n",
    "            todo_list.update_task(index, new_task)\n",
    "        elif choice == '3':\n",
    "            index = int(input(\"Enter task number to complete: \")) - 1\n",
    "            todo_list.complete_task(index)\n",
    "        elif choice == '4':\n",
    "            index = int(input(\"Enter task number to delete: \")) - 1\n",
    "            todo_list.delete_task(index)\n",
    "        elif choice == '5':\n",
    "            break\n",
    "        else:\n",
    "            print(\"Invalid option. Please try again.\")\n",
    "\n",
    "if __name__ == \"__main__\":\n",
    "    main()\n"
   ]
  },
  {
   "cell_type": "code",
   "execution_count": null,
   "metadata": {},
   "outputs": [],
   "source": []
  },
  {
   "cell_type": "code",
   "execution_count": null,
   "metadata": {},
   "outputs": [],
   "source": []
  },
  {
   "cell_type": "code",
   "execution_count": null,
   "metadata": {},
   "outputs": [],
   "source": []
  },
  {
   "cell_type": "code",
   "execution_count": null,
   "metadata": {},
   "outputs": [],
   "source": []
  }
 ],
 "metadata": {
  "kernelspec": {
   "display_name": "Python 3",
   "language": "python",
   "name": "python3"
  },
  "language_info": {
   "codemirror_mode": {
    "name": "ipython",
    "version": 3
   },
   "file_extension": ".py",
   "mimetype": "text/x-python",
   "name": "python",
   "nbconvert_exporter": "python",
   "pygments_lexer": "ipython3",
   "version": "3.11.2"
  }
 },
 "nbformat": 4,
 "nbformat_minor": 2
}
